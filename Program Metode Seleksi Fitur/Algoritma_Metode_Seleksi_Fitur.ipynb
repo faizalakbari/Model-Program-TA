{
  "nbformat": 4,
  "nbformat_minor": 0,
  "metadata": {
    "colab": {
      "provenance": [],
      "collapsed_sections": []
    },
    "kernelspec": {
      "name": "python3",
      "display_name": "Python 3"
    },
    "language_info": {
      "name": "python"
    }
  },
  "cells": [
    {
      "cell_type": "code",
      "execution_count": 29,
      "metadata": {
        "colab": {
          "base_uri": "https://localhost:8080/"
        },
        "id": "JRqOYHTX5gWo",
        "outputId": "6834fc41-1ad4-476a-dd48-17ac6e5bc4de"
      },
      "outputs": [
        {
          "output_type": "stream",
          "name": "stderr",
          "text": [
            "/usr/local/lib/python3.7/dist-packages/ipykernel_launcher.py:13: FutureWarning: In a future version of pandas all arguments of DataFrame.drop except for the argument 'labels' will be keyword-only\n",
            "  del sys.path[0]\n"
          ]
        }
      ],
      "source": [
        "#Import library pandas untuk membaca dataset\n",
        "import pandas as pd\n",
        "\n",
        "butterworth = pd.read_csv('Feature_Butterworth.csv')  #Untuk denoising butterworth\n",
        "\n",
        "butterworth.columns =['ESH', 'MAD', 'SKEW','KURT','VLF','LF','HF','Label']\n",
        "butterworth_feat = butterworth.drop('Label',1)\n",
        "butterworth_feat['VLF'] = butterworth_feat['VLF'].fillna(butterworth_feat['VLF'].mean())\n",
        "butterworth_label = butterworth['Label']"
      ]
    },
    {
      "cell_type": "code",
      "source": [
        "butterworth.head()"
      ],
      "metadata": {
        "id": "pW6lQg40BEbq",
        "colab": {
          "base_uri": "https://localhost:8080/",
          "height": 206
        },
        "outputId": "4a1e0c5f-fb86-433c-d340-987a6a75127c"
      },
      "execution_count": 30,
      "outputs": [
        {
          "output_type": "execute_result",
          "data": {
            "text/plain": [
              "         ESH       MAD      SKEW      KURT       VLF        LF            HF  \\\n",
              "0  12.667555  0.079907  0.261786 -0.725236  0.000525  0.000101  1.304105e-06   \n",
              "1  12.674413  0.076343  0.639750  0.085107  0.000281  0.000003  4.215095e-08   \n",
              "2  12.668663  0.096521  0.001104  0.438030  0.001745  0.000072  9.884242e-08   \n",
              "3  12.673751  0.084913  1.024603  0.253571  0.004230  0.000228  2.665408e-07   \n",
              "4  12.683872  0.114613  0.122410 -0.759329  0.007203  0.000251  5.433897e-07   \n",
              "\n",
              "   Label  \n",
              "0      0  \n",
              "1      0  \n",
              "2      0  \n",
              "3      0  \n",
              "4      0  "
            ],
            "text/html": [
              "\n",
              "  <div id=\"df-e81e284d-c51f-4a03-a481-15c511778b1a\">\n",
              "    <div class=\"colab-df-container\">\n",
              "      <div>\n",
              "<style scoped>\n",
              "    .dataframe tbody tr th:only-of-type {\n",
              "        vertical-align: middle;\n",
              "    }\n",
              "\n",
              "    .dataframe tbody tr th {\n",
              "        vertical-align: top;\n",
              "    }\n",
              "\n",
              "    .dataframe thead th {\n",
              "        text-align: right;\n",
              "    }\n",
              "</style>\n",
              "<table border=\"1\" class=\"dataframe\">\n",
              "  <thead>\n",
              "    <tr style=\"text-align: right;\">\n",
              "      <th></th>\n",
              "      <th>ESH</th>\n",
              "      <th>MAD</th>\n",
              "      <th>SKEW</th>\n",
              "      <th>KURT</th>\n",
              "      <th>VLF</th>\n",
              "      <th>LF</th>\n",
              "      <th>HF</th>\n",
              "      <th>Label</th>\n",
              "    </tr>\n",
              "  </thead>\n",
              "  <tbody>\n",
              "    <tr>\n",
              "      <th>0</th>\n",
              "      <td>12.667555</td>\n",
              "      <td>0.079907</td>\n",
              "      <td>0.261786</td>\n",
              "      <td>-0.725236</td>\n",
              "      <td>0.000525</td>\n",
              "      <td>0.000101</td>\n",
              "      <td>1.304105e-06</td>\n",
              "      <td>0</td>\n",
              "    </tr>\n",
              "    <tr>\n",
              "      <th>1</th>\n",
              "      <td>12.674413</td>\n",
              "      <td>0.076343</td>\n",
              "      <td>0.639750</td>\n",
              "      <td>0.085107</td>\n",
              "      <td>0.000281</td>\n",
              "      <td>0.000003</td>\n",
              "      <td>4.215095e-08</td>\n",
              "      <td>0</td>\n",
              "    </tr>\n",
              "    <tr>\n",
              "      <th>2</th>\n",
              "      <td>12.668663</td>\n",
              "      <td>0.096521</td>\n",
              "      <td>0.001104</td>\n",
              "      <td>0.438030</td>\n",
              "      <td>0.001745</td>\n",
              "      <td>0.000072</td>\n",
              "      <td>9.884242e-08</td>\n",
              "      <td>0</td>\n",
              "    </tr>\n",
              "    <tr>\n",
              "      <th>3</th>\n",
              "      <td>12.673751</td>\n",
              "      <td>0.084913</td>\n",
              "      <td>1.024603</td>\n",
              "      <td>0.253571</td>\n",
              "      <td>0.004230</td>\n",
              "      <td>0.000228</td>\n",
              "      <td>2.665408e-07</td>\n",
              "      <td>0</td>\n",
              "    </tr>\n",
              "    <tr>\n",
              "      <th>4</th>\n",
              "      <td>12.683872</td>\n",
              "      <td>0.114613</td>\n",
              "      <td>0.122410</td>\n",
              "      <td>-0.759329</td>\n",
              "      <td>0.007203</td>\n",
              "      <td>0.000251</td>\n",
              "      <td>5.433897e-07</td>\n",
              "      <td>0</td>\n",
              "    </tr>\n",
              "  </tbody>\n",
              "</table>\n",
              "</div>\n",
              "      <button class=\"colab-df-convert\" onclick=\"convertToInteractive('df-e81e284d-c51f-4a03-a481-15c511778b1a')\"\n",
              "              title=\"Convert this dataframe to an interactive table.\"\n",
              "              style=\"display:none;\">\n",
              "        \n",
              "  <svg xmlns=\"http://www.w3.org/2000/svg\" height=\"24px\"viewBox=\"0 0 24 24\"\n",
              "       width=\"24px\">\n",
              "    <path d=\"M0 0h24v24H0V0z\" fill=\"none\"/>\n",
              "    <path d=\"M18.56 5.44l.94 2.06.94-2.06 2.06-.94-2.06-.94-.94-2.06-.94 2.06-2.06.94zm-11 1L8.5 8.5l.94-2.06 2.06-.94-2.06-.94L8.5 2.5l-.94 2.06-2.06.94zm10 10l.94 2.06.94-2.06 2.06-.94-2.06-.94-.94-2.06-.94 2.06-2.06.94z\"/><path d=\"M17.41 7.96l-1.37-1.37c-.4-.4-.92-.59-1.43-.59-.52 0-1.04.2-1.43.59L10.3 9.45l-7.72 7.72c-.78.78-.78 2.05 0 2.83L4 21.41c.39.39.9.59 1.41.59.51 0 1.02-.2 1.41-.59l7.78-7.78 2.81-2.81c.8-.78.8-2.07 0-2.86zM5.41 20L4 18.59l7.72-7.72 1.47 1.35L5.41 20z\"/>\n",
              "  </svg>\n",
              "      </button>\n",
              "      \n",
              "  <style>\n",
              "    .colab-df-container {\n",
              "      display:flex;\n",
              "      flex-wrap:wrap;\n",
              "      gap: 12px;\n",
              "    }\n",
              "\n",
              "    .colab-df-convert {\n",
              "      background-color: #E8F0FE;\n",
              "      border: none;\n",
              "      border-radius: 50%;\n",
              "      cursor: pointer;\n",
              "      display: none;\n",
              "      fill: #1967D2;\n",
              "      height: 32px;\n",
              "      padding: 0 0 0 0;\n",
              "      width: 32px;\n",
              "    }\n",
              "\n",
              "    .colab-df-convert:hover {\n",
              "      background-color: #E2EBFA;\n",
              "      box-shadow: 0px 1px 2px rgba(60, 64, 67, 0.3), 0px 1px 3px 1px rgba(60, 64, 67, 0.15);\n",
              "      fill: #174EA6;\n",
              "    }\n",
              "\n",
              "    [theme=dark] .colab-df-convert {\n",
              "      background-color: #3B4455;\n",
              "      fill: #D2E3FC;\n",
              "    }\n",
              "\n",
              "    [theme=dark] .colab-df-convert:hover {\n",
              "      background-color: #434B5C;\n",
              "      box-shadow: 0px 1px 3px 1px rgba(0, 0, 0, 0.15);\n",
              "      filter: drop-shadow(0px 1px 2px rgba(0, 0, 0, 0.3));\n",
              "      fill: #FFFFFF;\n",
              "    }\n",
              "  </style>\n",
              "\n",
              "      <script>\n",
              "        const buttonEl =\n",
              "          document.querySelector('#df-e81e284d-c51f-4a03-a481-15c511778b1a button.colab-df-convert');\n",
              "        buttonEl.style.display =\n",
              "          google.colab.kernel.accessAllowed ? 'block' : 'none';\n",
              "\n",
              "        async function convertToInteractive(key) {\n",
              "          const element = document.querySelector('#df-e81e284d-c51f-4a03-a481-15c511778b1a');\n",
              "          const dataTable =\n",
              "            await google.colab.kernel.invokeFunction('convertToInteractive',\n",
              "                                                     [key], {});\n",
              "          if (!dataTable) return;\n",
              "\n",
              "          const docLinkHtml = 'Like what you see? Visit the ' +\n",
              "            '<a target=\"_blank\" href=https://colab.research.google.com/notebooks/data_table.ipynb>data table notebook</a>'\n",
              "            + ' to learn more about interactive tables.';\n",
              "          element.innerHTML = '';\n",
              "          dataTable['output_type'] = 'display_data';\n",
              "          await google.colab.output.renderOutput(dataTable, element);\n",
              "          const docLink = document.createElement('div');\n",
              "          docLink.innerHTML = docLinkHtml;\n",
              "          element.appendChild(docLink);\n",
              "        }\n",
              "      </script>\n",
              "    </div>\n",
              "  </div>\n",
              "  "
            ]
          },
          "metadata": {},
          "execution_count": 30
        }
      ]
    },
    {
      "cell_type": "markdown",
      "source": [
        "# **Feature Selection : Univariate Selection (ANOVA)**"
      ],
      "metadata": {
        "id": "fv_y5zpsd4h9"
      }
    },
    {
      "cell_type": "markdown",
      "source": [
        "Menggunakan perhitungan f_classif"
      ],
      "metadata": {
        "id": "bszLgr99hqPj"
      }
    },
    {
      "cell_type": "markdown",
      "source": [
        "## *Denoising Butterworth*"
      ],
      "metadata": {
        "id": "_i3pPSTuhj5m"
      }
    },
    {
      "cell_type": "code",
      "source": [
        "# Membandingkan jumlah fitur yang berbeda yang dipilih menggunakan anova f-test\n",
        "\n",
        "# Import library evaluasi dan pencaharian\n",
        "from sklearn.model_selection import RepeatedStratifiedKFold\n",
        "from sklearn.linear_model import LogisticRegression\n",
        "from sklearn.pipeline import Pipeline\n",
        "from sklearn.model_selection import GridSearchCV\n",
        "\n",
        "#Import library untuk perhitungan metode Anova\n",
        "from sklearn.feature_selection import SelectKBest\n",
        "from sklearn.feature_selection import f_classif\n",
        "\n",
        "# Split fitur dan label\n",
        "X = butterworth_feat\n",
        "y = butterworth_label\n",
        "\n",
        "# define the evaluation method\n",
        "cv = RepeatedStratifiedKFold(n_splits=10, n_repeats=3, random_state=1)\n",
        "# define the pipeline to evaluate\n",
        "model = LogisticRegression(solver='liblinear')\n",
        "fs = SelectKBest(score_func=f_classif)\n",
        "pipeline = Pipeline(steps=[('anova',fs), ('lr', model)])\n",
        "# define the grid\n",
        "grid = dict()\n",
        "grid['anova__k'] = [i+1 for i in range(X.shape[1])]\n",
        "# define the grid search\n",
        "search = GridSearchCV(pipeline, grid, scoring='accuracy', n_jobs=-1, cv=cv)\n",
        "# perform the search\n",
        "results = search.fit(X, y)\n",
        "# summarize best\n",
        "print('Best Config: %s' % results.best_params_)\n",
        "print('Banyaknya fitur yang optimal adalah sebanyak ',results.best_params_,' Fitur')"
      ],
      "metadata": {
        "colab": {
          "base_uri": "https://localhost:8080/"
        },
        "id": "2Yq3FVn5UEAm",
        "outputId": "bae1a184-8cb5-4c26-cbe8-746ae29b2c2b"
      },
      "execution_count": 31,
      "outputs": [
        {
          "output_type": "stream",
          "name": "stdout",
          "text": [
            "Best Config: {'anova__k': 5}\n",
            "Banyaknya fitur yang optimal adalah sebanyak  {'anova__k': 5}  Fitur\n"
          ]
        }
      ]
    },
    {
      "cell_type": "code",
      "source": [
        "# calculate each feature score and select k best features\n",
        "selectbest = SelectKBest(score_func=f_classif, k=5)\n",
        "fit = selectbest.fit(butterworth_feat, butterworth_label)\n",
        "# summarize scores\n",
        "dfscores = pd.DataFrame(fit.scores_)\n",
        "dfcolumns = pd.DataFrame(butterworth_feat.columns)\n",
        "featureScores = pd.concat([dfcolumns,dfscores],axis=1)\n",
        "featureScores.columns = ['Feature','Score']\n",
        "print(featureScores.nlargest(7,'Score'))\n",
        "\n",
        "print('Pilih k fitur terbaik berdasarkan urutan score (lebih besar lebih baik)')\n",
        "print('k yang paling optimal adalah k = 5')\n",
        "print('Maka fitur Mad, LF, Kurt, Skew dan VLF menjadi fitur terpilih')"
      ],
      "metadata": {
        "id": "wAPT966gguAi",
        "colab": {
          "base_uri": "https://localhost:8080/"
        },
        "outputId": "22892c12-b1cc-4fc5-c11c-316cc8f8ecdf"
      },
      "execution_count": 32,
      "outputs": [
        {
          "output_type": "stream",
          "name": "stdout",
          "text": [
            "  Feature     Score\n",
            "1     MAD  6.051159\n",
            "5      LF  0.854830\n",
            "3    KURT  0.851622\n",
            "2    SKEW  0.604537\n",
            "4     VLF  0.083199\n",
            "0     ESH  0.038505\n",
            "6      HF  0.036356\n",
            "Pilih k fitur terbaik berdasarkan urutan score (lebih besar lebih baik)\n",
            "k yang paling optimal adalah k = 5\n",
            "Maka fitur Mad, LF, Kurt, Skew dan VLF menjadi fitur terpilih\n"
          ]
        }
      ]
    },
    {
      "cell_type": "markdown",
      "source": [
        "# **Feature Selection : Pearson Correlation**"
      ],
      "metadata": {
        "id": "L7qKF8rcEBmv"
      }
    },
    {
      "cell_type": "markdown",
      "source": [
        "## *Denoising Butterworth*"
      ],
      "metadata": {
        "id": "0jP6g8EtFEP5"
      }
    },
    {
      "cell_type": "code",
      "source": [
        "# Fungsi Untuk Menghitung Korelasi Antar Fitur\n",
        "def correlation(dataset,threshold):\n",
        "  col_corr = set()\n",
        "  corr_matrix = dataset.corr()\n",
        "  for i in range(len(corr_matrix.columns)):\n",
        "    for j in range(i):\n",
        "      if abs(corr_matrix.iloc[i,j]) > threshold:\n",
        "        colname = corr_matrix.columns[i]\n",
        "        col_corr.add(colname)\n",
        "  return col_corr"
      ],
      "metadata": {
        "id": "Lxem3r7FmFEr"
      },
      "execution_count": 33,
      "outputs": []
    },
    {
      "cell_type": "code",
      "source": [
        "# Import library untuk plotting\n",
        "import seaborn as sns\n",
        "import matplotlib.pyplot as plt\n",
        "# Plot Korelasi antar fitur menggunakan heatmap seaborn\n",
        "corr_butterworth = butterworth.corr()\n",
        "plt.figure(figsize=(12,8))\n",
        "sns.heatmap(corr_butterworth, cmap=\"RdBu_r\",annot=True)\n",
        "\n",
        "plt.title('Correlation between Numeric Variables')\n",
        "plt.show()"
      ],
      "metadata": {
        "colab": {
          "base_uri": "https://localhost:8080/",
          "height": 499
        },
        "id": "JVcsCoTPt34f",
        "outputId": "d2f21577-49e9-479d-f9b2-9659834d83f6"
      },
      "execution_count": 34,
      "outputs": [
        {
          "output_type": "display_data",
          "data": {
            "text/plain": [
              "<Figure size 864x576 with 2 Axes>"
            ],
            "image/png": "[encoded data removed]"
          },
          "metadata": {
            "needs_background": "light"
          }
        }
      ]
    },
    {
      "cell_type": "code",
      "source": [
        "corr_features = correlation(butterworth_feat,0.5) #threshold = 0.5\n",
        "len(set(corr_features))\n",
        "print('Correlated features: ', len(set(corr_features)))\n",
        "print('Correlated features are: ', corr_features)\n",
        "print('Fitur',corr_features,\" akan dihapus\")\n",
        "print('Maka Fitur yang terpilih adalah MAD, ESH, LF dan HF')"
      ],
      "metadata": {
        "colab": {
          "base_uri": "https://localhost:8080/"
        },
        "id": "eiTrXjS1m48g",
        "outputId": "29508b97-1d50-421d-dbf7-795b2ee5867d"
      },
      "execution_count": 35,
      "outputs": [
        {
          "output_type": "stream",
          "name": "stdout",
          "text": [
            "Correlated features:  3\n",
            "Correlated features are:  {'KURT', 'SKEW', 'VLF'}\n",
            "Fitur {'KURT', 'SKEW', 'VLF'}  akan dihapus\n",
            "Maka Fitur yang terpilih adalah MAD, ESH, LF dan HF\n"
          ]
        }
      ]
    },
    {
      "cell_type": "markdown",
      "source": [
        "# **Feature Selection : Recursive Feature Elimination**"
      ],
      "metadata": {
        "id": "gRQ1EuksFwm-"
      }
    },
    {
      "cell_type": "code",
      "source": [
        "# Import Library untuk perhitungan Metode RFE\n",
        "from sklearn.feature_selection import RFE\n",
        "from sklearn.ensemble import RandomForestClassifier\n",
        "from sklearn.model_selection import StratifiedKFold\n",
        "from sklearn.feature_selection import RFECV"
      ],
      "metadata": {
        "id": "FePRCLTvuQdn"
      },
      "execution_count": null,
      "outputs": []
    },
    {
      "cell_type": "markdown",
      "source": [
        "## *Denoising Butterworth*"
      ],
      "metadata": {
        "id": "6KJsYBHEL7l0"
      }
    },
    {
      "cell_type": "code",
      "source": [
        "# Menentukan core model classifier untuk membantu perhitungan skor feature importance\n",
        "rfe = RandomForestClassifier(random_state = 32)\n",
        "# Mencari jumlah fitur yang optimal untuk digunakan\n",
        "rfecv  = RFECV(estimator= rfe, step=1, cv=StratifiedKFold(2), scoring=\"accuracy\")\n",
        "fit = rfecv.fit(butterworth_feat, butterworth_label)\n",
        "print(\"Optimal number of features : %d\" % rfecv.n_features_)\n",
        "\n",
        "# Menghitung Urutan fitur yang paling optimal\n",
        "rfc = RandomForestClassifier()\n",
        "rfe = RFE(estimator=rfc, n_features_to_select= 3, step=1)\n",
        "rfe.fit(butterworth_feat, butterworth_label)\n",
        "\n",
        "# Mengurutkan fitur berdasarkan ranking\n",
        "for i in range(butterworth_feat.shape[1]):\n",
        "    print('Column: %d, Selected %s, Rank: %.3f' % (i, rfe.support_[i], rfe.ranking_[i]))\n",
        "\n",
        "# Menampilkan fitur yang terpilih\n",
        "selected_butterworth = butterworth_feat.iloc[:,rfe.support_]\n",
        "print(selected_butterworth.head())\n",
        "print('Fitur yang terpilih adalah ESH, Mad dan Skew')"
      ],
      "metadata": {
        "id": "HAWeQG1OL_o7",
        "colab": {
          "base_uri": "https://localhost:8080/"
        },
        "outputId": "2bb9e05b-4018-49f8-c518-402aff7bc702"
      },
      "execution_count": 39,
      "outputs": [
        {
          "output_type": "stream",
          "name": "stdout",
          "text": [
            "Optimal number of features : 3\n",
            "Column: 0, Selected True, Rank: 1.000\n",
            "Column: 1, Selected True, Rank: 1.000\n",
            "Column: 2, Selected False, Rank: 2.000\n",
            "Column: 3, Selected False, Rank: 4.000\n",
            "Column: 4, Selected False, Rank: 3.000\n",
            "Column: 5, Selected True, Rank: 1.000\n",
            "Column: 6, Selected False, Rank: 5.000\n",
            "         ESH       MAD        LF\n",
            "0  12.667555  0.079907  0.000101\n",
            "1  12.674413  0.076343  0.000003\n",
            "2  12.668663  0.096521  0.000072\n",
            "3  12.673751  0.084913  0.000228\n",
            "4  12.683872  0.114613  0.000251\n",
            "Fitur yang terpilih adalah ESH, Mad dan Skew\n"
          ]
        }
      ]
    }
  ]
}